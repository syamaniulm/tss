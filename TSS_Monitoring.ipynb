{
 "cells": [
  {
   "cell_type": "markdown",
   "metadata": {
    "id": "_BFtt3L8AGz8"
   },
   "source": [
    "## **Pemantauan Muatan Suspensi Air (TSS) Menggunakan Citra Sentinel-2**"
   ]
  },
  {
   "cell_type": "code",
   "execution_count": null,
   "metadata": {
    "id": "ZabNDWJ8ADcG"
   },
   "outputs": [],
   "source": [
    "import ee"
   ]
  },
  {
   "cell_type": "code",
   "execution_count": null,
   "metadata": {
    "id": "tiiIn3W2APSG"
   },
   "outputs": [],
   "source": [
    "ee.Authenticate()"
   ]
  },
  {
   "cell_type": "code",
   "execution_count": null,
   "metadata": {
    "id": "RWkprEdgAR36"
   },
   "outputs": [],
   "source": [
    "# Ganti 'ee-yourproject' dengan nama project Anda\n",
    "ee.Initialize(project='ee-yourproject')"
   ]
  },
  {
   "cell_type": "code",
   "execution_count": null,
   "metadata": {
    "id": "0YFrBvPWAdRE"
   },
   "outputs": [],
   "source": [
    "# Sesuaikan dengan tanggal pengamatan Anda\n",
    "\n",
    "tgl_awal = '2019-06-25'\n",
    "tgl_akhir = '2019-07-05'\n",
    "persen_awan_maksimum = 50\n",
    "\n",
    "s2_col = (\n",
    "    ee.ImageCollection(\"COPERNICUS/S2_SR_HARMONIZED\")\n",
    "    .filterDate(tgl_awal,tgl_akhir)\n",
    "    .filter(ee.Filter.lte('CLOUDY_PIXEL_PERCENTAGE',persen_awan_maksimum))\n",
    ")"
   ]
  },
  {
   "cell_type": "code",
   "execution_count": null,
   "metadata": {
    "id": "8bKVsC05Aew6"
   },
   "outputs": [],
   "source": [
    "# Mengembalikan nilai pixel Sentinel-2 ke nilai reflektan absolut\n",
    "s2_image = s2_col.median().divide(10000)"
   ]
  },
  {
   "cell_type": "code",
   "execution_count": null,
   "metadata": {
    "id": "OAoJm3coAivS"
   },
   "outputs": [],
   "source": [
    "# Menentukan titik yang menjadi fokus observasi\n",
    "# Sesuaikan dengan lokasi Anda, koordinat bisa Anda ambil dari Google Map\n",
    "titik_observasi = ee.Geometry.Point([114.490637, -3.520689])"
   ]
  },
  {
   "cell_type": "code",
   "execution_count": null,
   "metadata": {
    "id": "X5zzeDzxAqPq"
   },
   "outputs": [],
   "source": [
    "import geemap\n",
    "\n",
    "rgb_vis = {'min': 0, 'max': 0.1, 'bands':['B4','B3','B2']}\n",
    "\n",
    "image_map = geemap.Map()\n",
    "image_map.centerObject(titik_observasi, 11)\n",
    "image_map.add_layer(s2_image, rgb_vis, 'Sentinel-2 RGB')\n",
    "image_map"
   ]
  },
  {
   "cell_type": "code",
   "execution_count": null,
   "metadata": {
    "id": "jrCwJLLkA0Qa"
   },
   "outputs": [],
   "source": [
    "# Kalkulasi Modified Normalized Difference Water Index (MNDWI)\n",
    "\n",
    "mndwi = s2_image.normalizedDifference(['B3','B11']).rename('MNDWI')"
   ]
  },
  {
   "cell_type": "code",
   "execution_count": null,
   "metadata": {
    "id": "eZvIax9VA6U0"
   },
   "outputs": [],
   "source": [
    "# Visualisasi MNDWI\n",
    "\n",
    "mndwi_vis = {'min': -1, 'max': 1, 'palette': 'gist_earth_r'}\n",
    "\n",
    "mndwi_map = geemap.Map()\n",
    "mndwi_map.centerObject(titik_observasi, 12)\n",
    "mndwi_map.add_layer(mndwi, mndwi_vis, 'MNDWI')\n",
    "mndwi_map"
   ]
  },
  {
   "cell_type": "code",
   "execution_count": null,
   "metadata": {
    "id": "6FtA71cwBDkj"
   },
   "outputs": [],
   "source": [
    "# Normalized Difference Turbidity Index (NDTI)\n",
    "\n",
    "ndti = s2_image.normalizedDifference(['B4','B3']).rename('NDTI')"
   ]
  },
  {
   "cell_type": "code",
   "execution_count": null,
   "metadata": {
    "id": "dWf1O9oGBHWN"
   },
   "outputs": [],
   "source": [
    "# Thresholding MNDWI untuk mengekstrak tubuh air\n",
    "water = mndwi.gt(0)\n",
    "\n",
    "# Masking kekeruhan air (turbidity)\n",
    "turbidity = ndti.multiply(water)\n",
    "turbidity = turbidity.updateMask(turbidity.neq(0)).rename('Turbidity')"
   ]
  },
  {
   "cell_type": "code",
   "execution_count": null,
   "metadata": {
    "id": "2eXEx0_mEsPT"
   },
   "outputs": [],
   "source": [
    "# Membuat garis jalur pemantauan muatan suspensi\n",
    "# Sesuaikan dengan lokasi Anda, koordinat bisa Anda ambil dari Google Map\n",
    "\n",
    "garis_pemantau = ee.Geometry.LineString([[114.437644, -3.521386], [114.505488, -3.556828]], proj='EPSG:4326')"
   ]
  },
  {
   "cell_type": "code",
   "execution_count": null,
   "metadata": {
    "id": "yzbktdVRBLT8"
   },
   "outputs": [],
   "source": [
    "# Visualisasi kekeruhan air\n",
    "\n",
    "turbidity_vis = {'min': 0, 'max': 0.2, 'palette': 'jet'}\n",
    "\n",
    "turbidity_map = geemap.Map()\n",
    "turbidity_map.centerObject(titik_observasi, 11)\n",
    "turbidity_map.add_layer(turbidity, turbidity_vis, 'Turbidity')\n",
    "turbidity_map.add_layer(garis_pemantau, {}, 'Jalur Pemantauan TSS')\n",
    "turbidity_map"
   ]
  },
  {
   "cell_type": "code",
   "execution_count": null,
   "metadata": {
    "id": "0RwGSicwBUGJ"
   },
   "outputs": [],
   "source": [
    "# Mengambil band 7 (Red Edge 3) Sentinel-2 MSI\n",
    "re3 = s2_image.select('B7')"
   ]
  },
  {
   "cell_type": "code",
   "execution_count": null,
   "metadata": {
    "id": "hIVcINhBBVz9"
   },
   "outputs": [],
   "source": [
    "# Menghitung muatan suspensi air (TSS)\n",
    "# Berdasarkan formula Liu et al. (2017)\n",
    "# Link publikasi: https://www.mdpi.com/2072-4292/9/7/761\n",
    "tss = (re3.pow(1.357)).multiply(2950).rename('TSS')\n",
    "\n",
    "# Masking TSS menggunakan tubuh air\n",
    "tss = tss.multiply(water)\n",
    "tss = tss.updateMask(tss.neq(0))"
   ]
  },
  {
   "cell_type": "code",
   "execution_count": null,
   "metadata": {
    "id": "U6RnMEkMCsfL"
   },
   "outputs": [],
   "source": [
    "# Mengekstrak data TSS sepanjang garis pemantau\n",
    "data_tss = geemap.extract_transect(\n",
    "    tss, garis_pemantau, n_segments=100, scale=10,\n",
    "    reducer='mean', to_pandas=True\n",
    ")\n",
    "data_tss"
   ]
  },
  {
   "cell_type": "code",
   "execution_count": null,
   "metadata": {
    "id": "3FTSYuJoC4uq"
   },
   "outputs": [],
   "source": [
    "# Visualisasi grafik data TSS sepanjang garis pemantau\n",
    "\n",
    "import matplotlib.pyplot as plt\n",
    "\n",
    "# Jangan lupa ganti judul grafik sesuai wilayah Anda\n",
    "judul_grafik = 'Pemantauan Muatan Suspensi Muara Sungai Barito'\n",
    "\n",
    "plt.style.use('seaborn-v0_8')\n",
    "\n",
    "fig = plt.figure()\n",
    "plt.plot(data_tss['distance'], data_tss['mean'])\n",
    "plt.xlabel('Jarak (meter)')\n",
    "plt.ylabel('Total Suspended Solid (TSS) (mg/Liter)')\n",
    "plt.title(judul_grafik)\n",
    "plt.show()"
   ]
  }
 ],
 "metadata": {
  "colab": {
   "provenance": []
  },
  "kernelspec": {
   "display_name": "Python 3 (ipykernel)",
   "language": "python",
   "name": "python3"
  },
  "language_info": {
   "codemirror_mode": {
    "name": "ipython",
    "version": 3
   },
   "file_extension": ".py",
   "mimetype": "text/x-python",
   "name": "python",
   "nbconvert_exporter": "python",
   "pygments_lexer": "ipython3",
   "version": "3.9.20"
  }
 },
 "nbformat": 4,
 "nbformat_minor": 4
}
